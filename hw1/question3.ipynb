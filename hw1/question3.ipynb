{
 "cells": [
  {
   "cell_type": "code",
   "execution_count": 1,
   "metadata": {},
   "outputs": [],
   "source": [
    "import pandas\n",
    "import math\n",
    "import numpy as np\n",
    "import matplotlib.pyplot as plt\n",
    "import statsmodels.api as sm\n",
    "from scipy.stats import norm\n",
    "from statsmodels.sandbox.regression.gmm import GMM\n",
    "from statsmodels.base.model import GenericLikelihoodModel"
   ]
  },
  {
   "cell_type": "code",
   "execution_count": 3,
   "metadata": {},
   "outputs": [],
   "source": [
    "#load data into memory\n",
    "data3 = np.genfromtxt('data3.dat', delimiter='  ')\n",
    "data3 = data3.transpose()\n",
    "\n",
    "#test to see if other data works\n",
    "drawsml = np.genfromtxt('drawsml.dat', delimiter='  ')\n",
    "#drawsgmm = np.genfromtxt('drawsgmm.dat', delimiter='  ')"
   ]
  },
  {
   "cell_type": "code",
   "execution_count": 4,
   "metadata": {},
   "outputs": [
    {
     "name": "stdout",
     "output_type": "stream",
     "text": [
      "Optimization terminated successfully.\n",
      "         Current function value: -3.174360\n",
      "         Iterations: 92\n",
      "         Function evaluations: 166\n",
      "                                part_b Results                                \n",
      "==============================================================================\n",
      "Dep. Variable:                      y   Log-Likelihood:                 158.72\n",
      "Model:                         part_b   AIC:                            -313.4\n",
      "Method:            Maximum Likelihood   BIC:                            -309.6\n",
      "Date:                Sat, 24 Jun 2023                                         \n",
      "Time:                        00:51:03                                         \n",
      "No. Observations:                  50                                         \n",
      "Df Residuals:                      48                                         \n",
      "Df Model:                           1                                         \n",
      "==============================================================================\n",
      "                 coef    std err          z      P>|z|      [0.025      0.975]\n",
      "------------------------------------------------------------------------------\n",
      "theta_1        1.0034      0.006    154.754      0.000       0.991       1.016\n",
      "theta_2        1.0504      0.088     11.972      0.000       0.878       1.222\n",
      "sigma          0.0701      0.005     15.102      0.000       0.061       0.079\n",
      "==============================================================================\n"
     ]
    },
    {
     "name": "stderr",
     "output_type": "stream",
     "text": [
      "c:\\Users\\ccerl\\Anaconda3\\envs\\empiricalio\\Lib\\site-packages\\statsmodels\\base\\model.py:2742: UserWarning: df_model + k_constant + k_extra differs from k_params\n",
      "  warnings.warn(\"df_model + k_constant + k_extra \"\n",
      "c:\\Users\\ccerl\\Anaconda3\\envs\\empiricalio\\Lib\\site-packages\\statsmodels\\base\\model.py:2746: UserWarning: df_resid differs from nobs - k_params\n",
      "  warnings.warn(\"df_resid differs from nobs - k_params\")\n"
     ]
    }
   ],
   "source": [
    "def sim_ll(y,x1,x2,t1,t2,sigma,v=False):\n",
    "    \"\"\"Simulate the log likelihood function by integrating out\"\"\"\n",
    "    #hard coded draws\n",
    "    eps1 = np.genfromtxt('drawsml.dat', delimiter='  ').transpose()\n",
    "    sim_like = 0 \n",
    "    #set up vectors for adding\n",
    "    zeros = np.full(len(x1),.0001)\n",
    "    const = np.full(len(x1), 100)   \n",
    "    \n",
    "    #run simulations, to simulate likelihoods\n",
    "    for s in range(len(eps1)): \n",
    "        #calculate f inverse\n",
    "        mc1 = np.exp(t1 + t2*x1 + sigma*eps1[s])\n",
    "        safe_log1 = np.maximum( 3*y - const - mc1 ,zeros)\n",
    "        f_inv =  (np.log(safe_log1) - t1 - t2*x2)\n",
    "        safe_f_inv = np.maximum( f_inv ,zeros)\n",
    "        #calculate f prime\n",
    "        f_prime = (3.0/sigma)*1/(3.0*y - const - mc1)\n",
    "        sim_like = sim_like + norm(0,sigma).pdf(f_inv)*f_prime\n",
    "    \n",
    "    #finalized simulated likelihoods\n",
    "    safe_sim = np.maximum(sim_like/len(eps1),zeros)    \n",
    "    return np.log(safe_sim).sum()\n",
    "\n",
    "\n",
    "class part_b(GenericLikelihoodModel):\n",
    "    \"\"\"class for evaluating question 3 part b\"\"\"\n",
    "    \n",
    "    def nloglikeobs(self, params):\n",
    "        t1, t2, sigma = params\n",
    "        y = self.endog\n",
    "        x1,x2 = self.exog.transpose()\n",
    "        return -sim_ll(y, x1,x2,t1,t2,sigma)\n",
    "\n",
    "    \n",
    "    def fit(self, start_params=None, maxiter=100, maxfun=5000, **kwds):\n",
    "        if start_params == None:\n",
    "            start_params = np.array([1,1,1])\n",
    "        return super(part_b, self).fit(start_params=start_params,\n",
    "                                       maxiter=maxiter, maxfun=maxfun, **kwds)\n",
    "\n",
    "    \n",
    "model_b = part_b(data3[0],data3[1:].transpose()).fit(start_params = [1,1,1])\n",
    "print(model_b.summary(xname=['theta_1','theta_2','sigma']))"
   ]
  },
  {
   "cell_type": "code",
   "execution_count": 6,
   "metadata": {},
   "outputs": [
    {
     "name": "stderr",
     "output_type": "stream",
     "text": [
      "c:\\Users\\ccerl\\Anaconda3\\envs\\empiricalio\\Lib\\site-packages\\statsmodels\\sandbox\\regression\\gmm.py:768: RuntimeWarning: Maximum number of function evaluations has been exceeded.\n",
      "  return optimizer(self.gmmobjective, start, args=(weights,),\n"
     ]
    },
    {
     "name": "stdout",
     "output_type": "stream",
     "text": [
      "                                part_d Results                                \n",
      "==============================================================================\n",
      "Dep. Variable:                      y   Hansen J:                        191.5\n",
      "Model:                         part_d   Prob (Hansen J):              1.46e-43\n",
      "Method:                           GMM                                         \n",
      "Date:                Sat, 24 Jun 2023                                         \n",
      "Time:                        00:54:54                                         \n",
      "No. Observations:                  50                                         \n",
      "==============================================================================\n",
      "                 coef    std err          z      P>|z|      [0.025      0.975]\n",
      "------------------------------------------------------------------------------\n",
      "theta_1        0.5330      0.001    770.843      0.000       0.532       0.534\n",
      "theta_2        0.4834      0.001    731.062      0.000       0.482       0.485\n",
      "sigma          0.4864      0.001    709.733      0.000       0.485       0.488\n",
      "==============================================================================\n",
      "\n",
      "\n",
      "Optimization terminated successfully.\n",
      "         Current function value: 0.000001\n",
      "         Iterations: 143\n",
      "         Function evaluations: 359\n",
      "                                part_d Results                                \n",
      "==============================================================================\n",
      "Dep. Variable:                      y   Hansen J:                        33.30\n",
      "Model:                         part_d   Prob (Hansen J):              7.92e-09\n",
      "Method:                           GMM                                         \n",
      "Date:                Sat, 24 Jun 2023                                         \n",
      "Time:                        00:54:55                                         \n",
      "No. Observations:                  50                                         \n",
      "==============================================================================\n",
      "                 coef    std err          z      P>|z|      [0.025      0.975]\n",
      "------------------------------------------------------------------------------\n",
      "theta_1        0.7938      0.000   4175.324      0.000       0.793       0.794\n",
      "theta_2        0.2377   9.37e-05   2536.368      0.000       0.238       0.238\n",
      "sigma          0.6133      0.000   3391.175      0.000       0.613       0.614\n",
      "==============================================================================\n"
     ]
    },
    {
     "name": "stderr",
     "output_type": "stream",
     "text": [
      "c:\\Users\\ccerl\\Anaconda3\\envs\\empiricalio\\Lib\\site-packages\\statsmodels\\sandbox\\regression\\gmm.py:768: RuntimeWarning: Maximum number of function evaluations has been exceeded.\n",
      "  return optimizer(self.gmmobjective, start, args=(weights,),\n"
     ]
    }
   ],
   "source": [
    "def sim_g(t1,t2,sigma,y,x1,x2,eps1,eps2):\n",
    "    \"\"\"simulate moment conditions, given predetermined\n",
    "    simulations\"\"\"\n",
    "    g = 0\n",
    "    for s in range(len(eps1)):\n",
    "        y_hat = 1/3.0*(100 + np.exp(t1 + t2*x1 + sigma*eps1[s])\n",
    "                       + np.exp(t1 + t2*x2 + sigma*eps2[s]))\n",
    "        g = g + (y - y_hat)\n",
    "        \n",
    "    return g/ (len(eps1)*len(eps2))\n",
    "\n",
    "\n",
    "def sim_g_sq(t1,t2,sigma,y,x1,x2,eps1,eps2):\n",
    "    \"\"\"simulate square moment conditions, given predetermined\n",
    "    simulations\"\"\"\n",
    "    g = 0\n",
    "    for s in range(len(eps1)):\n",
    "        y_hat = 1/3.0*(100 + np.exp(t1 + t2*x1 + sigma*eps1[s])\n",
    "                       + np.exp(t1 + t2*x2 + sigma*eps2[s]))\n",
    "        g = g + (y**2-y_hat**2)\n",
    "    return g/(len(eps1)*len(eps2))\n",
    "\n",
    "\n",
    "class part_d(GMM):\n",
    "    \"\"\"class for evaluating question 3 part d\"\"\"\n",
    "\n",
    "    def __init__(self, *args, **kwds):\n",
    "        \"\"\"set appropriate counts for moment conditions and parameters\"\"\"\n",
    "        kwds.setdefault('k_moms', 4)\n",
    "        kwds.setdefault('k_params',3)\n",
    "        super(part_d, self).__init__(*args, **kwds)\n",
    "    \n",
    "    \n",
    "    def fit(self, start_params=None, maxiter=10000, **kwds):\n",
    "        if start_params == None:\n",
    "            start_params = np.array([.5, .5, .5])\n",
    "        return super(part_d, self).fit(start_params=start_params,\n",
    "                                       maxiter=maxiter,  **kwds)\n",
    "\n",
    "        \n",
    "    def momcond(self, params):\n",
    "        t1,t2, sigma = params   \n",
    "        y = self.endog\n",
    "        x1,x2 = self.exog.transpose() \n",
    "        \n",
    "        #initialize draws\n",
    "        #eps = np.genfromtxt('drawsgmm.dat', delimiter='  ').transpose()\n",
    "        eps = np.random.normal(0,1,(50,40)).transpose()\n",
    "        eps1 = eps[:20,:]\n",
    "        eps2 = eps[20:,:]\n",
    "        \n",
    "        #calc moment conditions\n",
    "        g = sim_g(t1,t2,sigma,y,x1,x2,eps1,eps2)\n",
    "        g_sq = sim_g_sq(t1,t2,sigma,y,x1,x2,eps1,eps2)\n",
    "        return np.column_stack((g,g*x1,g*x2,g_sq))\n",
    "\n",
    "\n",
    "model_d = part_d(data3[0],data3[1:].transpose(), None)\n",
    "\n",
    "\n",
    "#print first iteration (i.e. 1 stage)\n",
    "result_d_stage1 = model_d.fit(maxiter=1, optim_method='nm', wargs=dict(centered=False))\n",
    "print(result_d_stage1.summary(xname=['theta_1','theta_2','sigma']))\n",
    "print('\\n')\n",
    "\n",
    "\n",
    "#print second iteration (i.e. 2 stage)\n",
    "result_d_stage2 = model_d.fit(maxiter=2, optim_method='nm', wargs=dict(centered=False))\n",
    "print(result_d_stage2.summary(xname=['theta_1','theta_2','sigma']))"
   ]
  },
  {
   "cell_type": "code",
   "execution_count": 7,
   "metadata": {},
   "outputs": [
    {
     "name": "stderr",
     "output_type": "stream",
     "text": [
      "c:\\Users\\ccerl\\Anaconda3\\envs\\empiricalio\\Lib\\site-packages\\statsmodels\\sandbox\\regression\\gmm.py:768: RuntimeWarning: Maximum number of function evaluations has been exceeded.\n",
      "  return optimizer(self.gmmobjective, start, args=(weights,),\n"
     ]
    },
    {
     "name": "stdout",
     "output_type": "stream",
     "text": [
      "                                part_d Results                                \n",
      "==============================================================================\n",
      "Dep. Variable:                      y   Hansen J:                        1.488\n",
      "Model:                         part_d   Prob (Hansen J):                 0.223\n",
      "Method:                           GMM                                         \n",
      "Date:                Sat, 24 Jun 2023                                         \n",
      "Time:                        00:55:44                                         \n",
      "No. Observations:                  50                                         \n",
      "==============================================================================\n",
      "                 coef    std err          z      P>|z|      [0.025      0.975]\n",
      "------------------------------------------------------------------------------\n",
      "theta_1        1.0019      0.000   2925.882      0.000       1.001       1.003\n",
      "theta_2        1.1064      0.001   1461.474      0.000       1.105       1.108\n",
      "sigma          0.0989      0.001    162.636      0.000       0.098       0.100\n",
      "==============================================================================\n"
     ]
    }
   ],
   "source": [
    "result_d_stage2 = model_d.fit(maxiter=10000, optim_method='nm', wargs=dict(centered=False))\n",
    "print(result_d_stage2.summary(xname=['theta_1','theta_2','sigma']))"
   ]
  }
 ],
 "metadata": {
  "kernelspec": {
   "display_name": "empiricalio",
   "language": "python",
   "name": "python3"
  },
  "language_info": {
   "codemirror_mode": {
    "name": "ipython",
    "version": 3
   },
   "file_extension": ".py",
   "mimetype": "text/x-python",
   "name": "python",
   "nbconvert_exporter": "python",
   "pygments_lexer": "ipython3",
   "version": "3.11.4"
  }
 },
 "nbformat": 4,
 "nbformat_minor": 2
}
