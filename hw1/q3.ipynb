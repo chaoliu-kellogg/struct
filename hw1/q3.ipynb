{
 "cells": [
  {
   "cell_type": "code",
   "execution_count": 15,
   "metadata": {},
   "outputs": [],
   "source": [
    "import pandas\n",
    "import math\n",
    "import numpy as np\n",
    "import matplotlib.pyplot as plt\n",
    "import statsmodels.api as sm\n",
    "from scipy.stats import norm\n",
    "from statsmodels.sandbox.regression.gmm import GMM\n",
    "from statsmodels.base.model import GenericLikelihoodModel\n",
    "from scipy.optimize import minimize"
   ]
  },
  {
   "cell_type": "code",
   "execution_count": 9,
   "metadata": {},
   "outputs": [
    {
     "name": "stdout",
     "output_type": "stream",
     "text": [
      "(50, 3)\n"
     ]
    }
   ],
   "source": [
    "#load data into memory\n",
    "data3 = np.genfromtxt('data3.dat', delimiter='  ')\n",
    "print(data3.shape)\n",
    "#test to see if other data works\n",
    "drawsml = np.genfromtxt('drawsml.dat', delimiter='  ')"
   ]
  },
  {
   "cell_type": "code",
   "execution_count": 10,
   "metadata": {},
   "outputs": [],
   "source": [
    "# 50 markets\n",
    "p = data3[:,0]\n",
    "x1 = data3[:,1]\n",
    "x2 = data3[:,2]"
   ]
  },
  {
   "cell_type": "code",
   "execution_count": 11,
   "metadata": {},
   "outputs": [
    {
     "name": "stdout",
     "output_type": "stream",
     "text": [
      "(50,)\n"
     ]
    }
   ],
   "source": [
    "print(p.shape)"
   ]
  },
  {
   "cell_type": "code",
   "execution_count": 12,
   "metadata": {},
   "outputs": [
    {
     "name": "stdout",
     "output_type": "stream",
     "text": [
      "(50,)\n"
     ]
    }
   ],
   "source": [
    "print(drawsml[:, 1].shape)"
   ]
  },
  {
   "cell_type": "code",
   "execution_count": 39,
   "metadata": {},
   "outputs": [],
   "source": [
    "def loglike(params, *args):\n",
    "    loglike = 0\n",
    "    p, x1, x2, drawsml = args\n",
    "    s = drawsml.shape[1]\n",
    "    theta1, theta2, sigma = params\n",
    "    for i in range(s):\n",
    "        mc1 = np.exp(theta1 + theta2*x1 + sigma*drawsml[:, i])\n",
    "        n = len(p)\n",
    "        z = np.maximum(3*p - 100 - mc1, [1e-5]*n)\n",
    "        e = np.log(z) - theta1 - theta2*x2\n",
    "        loglike += -n/2*np.log(2*np.pi*sigma**2) - 1/(2*sigma**2)*sum(e**2)\n",
    "    return -loglike/s"
   ]
  },
  {
   "cell_type": "code",
   "execution_count": 43,
   "metadata": {},
   "outputs": [],
   "source": [
    "res = minimize(loglike, [1,1,1], args=(p, x1, x2, drawsml), bounds=((None, None), (None, None), (1e-10, None)))"
   ]
  },
  {
   "cell_type": "code",
   "execution_count": 44,
   "metadata": {},
   "outputs": [
    {
     "data": {
      "text/plain": [
       "  message: CONVERGENCE: REL_REDUCTION_OF_F_<=_FACTR*EPSMCH\n",
       "  success: True\n",
       "   status: 0\n",
       "      fun: 158.96945937415813\n",
       "        x: [-1.734e+00  5.276e-01  5.861e+00]\n",
       "      nit: 28\n",
       "      jac: [ 1.137e-05 -2.842e-06 -2.842e-06]\n",
       "     nfev: 124\n",
       "     njev: 31\n",
       " hess_inv: <3x3 LbfgsInvHessProduct with dtype=float64>"
      ]
     },
     "execution_count": 44,
     "metadata": {},
     "output_type": "execute_result"
    }
   ],
   "source": [
    "res"
   ]
  },
  {
   "cell_type": "code",
   "execution_count": 28,
   "metadata": {},
   "outputs": [
    {
     "data": {
      "text/plain": [
       "array([2, 2, 3])"
      ]
     },
     "execution_count": 28,
     "metadata": {},
     "output_type": "execute_result"
    }
   ],
   "source": [
    "np.maximum([1,2,3], [2,2,2])"
   ]
  },
  {
   "cell_type": "markdown",
   "metadata": {},
   "source": [
    "## SMM"
   ]
  },
  {
   "cell_type": "code",
   "execution_count": 13,
   "metadata": {},
   "outputs": [],
   "source": [
    "# simulated GMM\n",
    "# fix a numpy random seed\n",
    "np.random.seed(1234)\n",
    "sim = 20\n",
    "e1 = np.random.normal(0, 1, (50,sim))\n",
    "e2 = np.random.normal(0, 1, (50,sim))"
   ]
  },
  {
   "cell_type": "code",
   "execution_count": 14,
   "metadata": {},
   "outputs": [
    {
     "name": "stdout",
     "output_type": "stream",
     "text": [
      "(50,)\n"
     ]
    }
   ],
   "source": [
    "print(e1[:, 1].shape)"
   ]
  },
  {
   "cell_type": "code",
   "execution_count": 21,
   "metadata": {},
   "outputs": [],
   "source": [
    "# model moments is the average of the 20 simulated moments\n",
    "# return shape: 4x1\n",
    "def model_moment(p, x1, x2, e1, e2, t1, t2, sigma, sim):\n",
    "    mom1 = []\n",
    "    mom2 = []\n",
    "    mom3 = []\n",
    "    mom4 = []\n",
    "    for i in range(sim):\n",
    "        mc1 = np.exp(t1 + t2*x1 + sigma*e1[:, i])\n",
    "        mc2 = np.exp(t1 + t2*x2 + sigma*e2[:, i])\n",
    "        phat = 100 - (200 - mc1 - mc2)/3\n",
    "        moment1 = p - phat\n",
    "        mom1.append(moment1)\n",
    "        moment2 = moment1 * x1\n",
    "        mom2.append(moment2)\n",
    "        moment3 = moment1 * x2\n",
    "        mom3.append(moment3)\n",
    "        moment4 = p**2 - phat**2\n",
    "        mom4.append(moment4)\n",
    "    m1 = np.array(mom1).mean()\n",
    "    m2 = np.array(mom2).mean()\n",
    "    m3 = np.array(mom3).mean()\n",
    "    m4 = np.array(mom4).mean()\n",
    "    moments = np.array([[m1], [m2], [m3], [m4]])\n",
    "    return moments"
   ]
  },
  {
   "cell_type": "code",
   "execution_count": 22,
   "metadata": {},
   "outputs": [],
   "source": [
    "def gmm(params, *args):\n",
    "    p, x1, x2, e1, e2, sim, W = args\n",
    "    t1, t2, sigma = params\n",
    "    moments = model_moment(p, x1, x2, e1, e2, t1, t2, sigma, sim)\n",
    "    return moments.T @ W @ moments"
   ]
  },
  {
   "cell_type": "code",
   "execution_count": 41,
   "metadata": {},
   "outputs": [],
   "source": [
    "W = np.eye(4)\n",
    "res = minimize(gmm, [1,1,0.07], args=(p, x1, x2, e1, e2, sim, W), method='L-BFGS-B', bounds=((None, None), (None, None), (None, None)))"
   ]
  },
  {
   "cell_type": "code",
   "execution_count": 42,
   "metadata": {},
   "outputs": [
    {
     "name": "stdout",
     "output_type": "stream",
     "text": [
      "[1.00443762 1.00004825 0.07043053]\n"
     ]
    }
   ],
   "source": [
    "print(res.x)"
   ]
  }
 ],
 "metadata": {
  "kernelspec": {
   "display_name": "empiricalio",
   "language": "python",
   "name": "python3"
  },
  "language_info": {
   "codemirror_mode": {
    "name": "ipython",
    "version": 3
   },
   "file_extension": ".py",
   "mimetype": "text/x-python",
   "name": "python",
   "nbconvert_exporter": "python",
   "pygments_lexer": "ipython3",
   "version": "3.11.4"
  },
  "orig_nbformat": 4
 },
 "nbformat": 4,
 "nbformat_minor": 2
}
