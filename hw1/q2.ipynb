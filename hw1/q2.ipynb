{
 "cells": [
  {
   "cell_type": "code",
   "execution_count": 1,
   "metadata": {},
   "outputs": [],
   "source": [
    "import pandas\n",
    "import math\n",
    "import numpy as np\n",
    "import matplotlib.pyplot as plt\n",
    "import statsmodels.api as sm\n",
    "from scipy.stats import norm\n",
    "from statsmodels.sandbox.regression.gmm import GMM\n",
    "from statsmodels.base.model import GenericLikelihoodModel"
   ]
  },
  {
   "cell_type": "code",
   "execution_count": 2,
   "metadata": {},
   "outputs": [],
   "source": [
    "data2 = np.genfromtxt('data2.dat', delimiter='  ')\n",
    "\n",
    "y = data2[:, 0]\n",
    "x = data2[:, 1]"
   ]
  },
  {
   "cell_type": "code",
   "execution_count": 3,
   "metadata": {},
   "outputs": [],
   "source": [
    "# MLE\n",
    "def loglike(params, *args):\n",
    "    y, x = args\n",
    "    theta0, theta1, sigma = params\n",
    "    n = len(y)\n",
    "    e = np.log(y) - theta0 - x**theta1\n",
    "    loglike = -n/2*np.log(2*np.pi*sigma**2) - 1/(2*sigma**2)*sum(e**2)\n",
    "    return -loglike"
   ]
  },
  {
   "cell_type": "code",
   "execution_count": 4,
   "metadata": {},
   "outputs": [],
   "source": [
    "from scipy.optimize import minimize\n",
    "res = minimize(loglike, [0,0,1], args=(y,x), method='L-BFGS-B', bounds=((None, None), (None, None), (1e-10, None)))"
   ]
  },
  {
   "cell_type": "code",
   "execution_count": 6,
   "metadata": {},
   "outputs": [
    {
     "name": "stdout",
     "output_type": "stream",
     "text": [
      "[3.06593632 1.02719735 0.96334309]\n"
     ]
    }
   ],
   "source": [
    "print(res.x)"
   ]
  },
  {
   "cell_type": "code",
   "execution_count": 7,
   "metadata": {},
   "outputs": [
    {
     "name": "stdout",
     "output_type": "stream",
     "text": [
      "[[ 0.07441462 -0.07400939 -0.01694223]\n",
      " [-0.07400939  0.08654626  0.01794028]\n",
      " [-0.01694223  0.01794028  0.01975501]]\n"
     ]
    }
   ],
   "source": [
    "print(res.hess_inv.todense())"
   ]
  },
  {
   "cell_type": "code",
   "execution_count": 8,
   "metadata": {},
   "outputs": [],
   "source": [
    "vcv_mle = res.hess_inv.todense()"
   ]
  },
  {
   "cell_type": "code",
   "execution_count": 9,
   "metadata": {},
   "outputs": [
    {
     "name": "stdout",
     "output_type": "stream",
     "text": [
      "Standard error for theta0 is  0.27279042984378365\n",
      "Standard error for theta1 is  0.2941874498915475\n",
      "Standard error for sigma is  0.14055253238526072\n"
     ]
    }
   ],
   "source": [
    "stderr_theta0 = np.sqrt(vcv_mle[0,0])\n",
    "stderr_theta1 = np.sqrt(vcv_mle[1,1])\n",
    "stderr_sigma = np.sqrt(vcv_mle[2,2])\n",
    "print('Standard error for theta0 is ', stderr_theta0)\n",
    "print('Standard error for theta1 is ', stderr_theta1)\n",
    "print('Standard error for sigma is ', stderr_sigma)"
   ]
  },
  {
   "cell_type": "code",
   "execution_count": 10,
   "metadata": {},
   "outputs": [],
   "source": [
    "def bootstrap(n = 100):\n",
    "    theta0 = []\n",
    "    theta1 = []\n",
    "    sigma = []\n",
    "    for _ in range(n):\n",
    "        sample = np.random.choice(range(len(y)), len(y), replace=True)\n",
    "        res = minimize(loglike, [0,0,1], args=(y[sample],x[sample]), method='L-BFGS-B', bounds=((None, None), (None, None), (1e-10, None)))\n",
    "        theta0.append(res.x[0])\n",
    "        theta1.append(res.x[1])\n",
    "        sigma.append(res.x[2])\n",
    "    return theta0, theta1, sigma"
   ]
  },
  {
   "cell_type": "code",
   "execution_count": 11,
   "metadata": {},
   "outputs": [],
   "source": [
    "theta0_list, theta1_list, sigma_list = bootstrap(n = 100)"
   ]
  },
  {
   "cell_type": "code",
   "execution_count": 14,
   "metadata": {},
   "outputs": [
    {
     "data": {
      "text/plain": [
       "0.1762667213817594"
      ]
     },
     "execution_count": 14,
     "metadata": {},
     "output_type": "execute_result"
    }
   ],
   "source": [
    "np.array(theta0_list).std()"
   ]
  },
  {
   "cell_type": "code",
   "execution_count": 12,
   "metadata": {},
   "outputs": [
    {
     "data": {
      "text/plain": [
       "0.21335101634782958"
      ]
     },
     "execution_count": 12,
     "metadata": {},
     "output_type": "execute_result"
    }
   ],
   "source": [
    "np.array(theta1_list).std()"
   ]
  },
  {
   "cell_type": "code",
   "execution_count": 13,
   "metadata": {},
   "outputs": [
    {
     "data": {
      "text/plain": [
       "0.058287179360058845"
      ]
     },
     "execution_count": 13,
     "metadata": {},
     "output_type": "execute_result"
    }
   ],
   "source": [
    "np.array(sigma_list).std()"
   ]
  }
 ],
 "metadata": {
  "kernelspec": {
   "display_name": "empiricalio",
   "language": "python",
   "name": "python3"
  },
  "language_info": {
   "codemirror_mode": {
    "name": "ipython",
    "version": 3
   },
   "file_extension": ".py",
   "mimetype": "text/x-python",
   "name": "python",
   "nbconvert_exporter": "python",
   "pygments_lexer": "ipython3",
   "version": "3.11.4"
  },
  "orig_nbformat": 4
 },
 "nbformat": 4,
 "nbformat_minor": 2
}
