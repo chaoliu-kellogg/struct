{
 "cells": [
  {
   "cell_type": "code",
   "execution_count": 1,
   "metadata": {},
   "outputs": [],
   "source": [
    "import pandas\n",
    "import math\n",
    "import numpy as np\n",
    "import matplotlib.pyplot as plt\n",
    "import statsmodels.api as sm\n",
    "from scipy.stats import norm\n",
    "from statsmodels.sandbox.regression.gmm import GMM\n",
    "from statsmodels.base.model import GenericLikelihoodModel"
   ]
  },
  {
   "cell_type": "code",
   "execution_count": 2,
   "metadata": {},
   "outputs": [],
   "source": [
    "#load data into memory\n",
    "data1 = np.genfromtxt('data1.dat', delimiter='  ')\n",
    "\n",
    "#partition correctly\n",
    "y = data1[:, 0]\n",
    "x = sm.add_constant(data1[:, 1])"
   ]
  },
  {
   "cell_type": "code",
   "execution_count": 3,
   "metadata": {},
   "outputs": [
    {
     "name": "stdout",
     "output_type": "stream",
     "text": [
      "                            OLS Regression Results                            \n",
      "==============================================================================\n",
      "Dep. Variable:                      y   R-squared:                       0.799\n",
      "Model:                            OLS   Adj. R-squared:                  0.799\n",
      "Method:                 Least Squares   F-statistic:                     1979.\n",
      "Date:                Thu, 22 Jun 2023   Prob (F-statistic):          1.33e-175\n",
      "Time:                        21:15:24   Log-Likelihood:                -362.72\n",
      "No. Observations:                 500   AIC:                             729.4\n",
      "Df Residuals:                     498   BIC:                             737.9\n",
      "Df Model:                           1                                         \n",
      "Covariance Type:            nonrobust                                         \n",
      "==============================================================================\n",
      "                 coef    std err          t      P>|t|      [0.025      0.975]\n",
      "------------------------------------------------------------------------------\n",
      "const          0.0055      0.022      0.245      0.807      -0.039       0.050\n",
      "x1             1.0105      0.023     44.486      0.000       0.966       1.055\n",
      "==============================================================================\n",
      "Omnibus:                        0.044   Durbin-Watson:                   1.995\n",
      "Prob(Omnibus):                  0.978   Jarque-Bera (JB):                0.120\n",
      "Skew:                           0.002   Prob(JB):                        0.942\n",
      "Kurtosis:                       2.924   Cond. No.                         1.09\n",
      "==============================================================================\n",
      "\n",
      "Notes:\n",
      "[1] Standard Errors assume that the covariance matrix of the errors is correctly specified.\n"
     ]
    }
   ],
   "source": [
    "#part a - estimate using OLS\n",
    "part_a = sm.OLS(y,x).fit()\n",
    "print(part_a.summary())"
   ]
  },
  {
   "cell_type": "code",
   "execution_count": 4,
   "metadata": {},
   "outputs": [],
   "source": [
    "# MLE\n",
    "def loglike(params, *args):\n",
    "    y, x = args\n",
    "    theta0, theta1, sigma = params\n",
    "    n = len(y)\n",
    "    e = y - theta0 - theta1*x\n",
    "    loglike = -n/2*np.log(2*np.pi*sigma**2) - 1/(2*sigma**2)*sum(e**2)\n",
    "    return -loglike"
   ]
  },
  {
   "cell_type": "code",
   "execution_count": 13,
   "metadata": {},
   "outputs": [],
   "source": [
    "from scipy.optimize import minimize\n",
    "x = data1[:, 1]\n",
    "res = minimize(loglike, [0,0,1], args=(y,x), method='L-BFGS-B', bounds=((None, None), (None, None), (1e-10, None)))"
   ]
  },
  {
   "cell_type": "code",
   "execution_count": 14,
   "metadata": {},
   "outputs": [
    {
     "name": "stdout",
     "output_type": "stream",
     "text": [
      "[0.00551029 1.01045935 0.49982024]\n"
     ]
    }
   ],
   "source": [
    "print(res.x)"
   ]
  },
  {
   "cell_type": "code",
   "execution_count": 16,
   "metadata": {},
   "outputs": [
    {
     "name": "stdout",
     "output_type": "stream",
     "text": [
      "[[0.00231849 0.01538678 0.00730256]\n",
      " [0.01538678 0.13129851 0.06196704]\n",
      " [0.00730256 0.06196704 0.02968299]]\n"
     ]
    }
   ],
   "source": [
    "print(res.hess_inv.todense())"
   ]
  },
  {
   "cell_type": "code",
   "execution_count": 17,
   "metadata": {},
   "outputs": [],
   "source": [
    "def bootstrap(n = 100):\n",
    "    theta0 = []\n",
    "    theta1 = []\n",
    "    sigma = []\n",
    "    for _ in range(n):\n",
    "        sample = np.random.choice(range(len(y)), len(y), replace=True)\n",
    "        res = minimize(loglike, [0,0,1], args=(y[sample],x[sample]), method='L-BFGS-B', bounds=((None, None), (None, None), (1e-10, None)))\n",
    "        theta0.append(res.x[0])\n",
    "        theta1.append(res.x[1])\n",
    "        sigma.append(res.x[2])\n",
    "    return theta0, theta1, sigma"
   ]
  },
  {
   "cell_type": "code",
   "execution_count": 18,
   "metadata": {},
   "outputs": [],
   "source": [
    "theta0_list, theta1_list, sigma_list = bootstrap(n = 100)"
   ]
  },
  {
   "cell_type": "code",
   "execution_count": 19,
   "metadata": {},
   "outputs": [
    {
     "data": {
      "text/plain": [
       "0.022970895927376313"
      ]
     },
     "execution_count": 19,
     "metadata": {},
     "output_type": "execute_result"
    }
   ],
   "source": [
    "np.array(theta0_list).std()"
   ]
  },
  {
   "cell_type": "code",
   "execution_count": 20,
   "metadata": {},
   "outputs": [
    {
     "data": {
      "text/plain": [
       "0.02244009293218294"
      ]
     },
     "execution_count": 20,
     "metadata": {},
     "output_type": "execute_result"
    }
   ],
   "source": [
    "np.array(theta1_list).std()"
   ]
  },
  {
   "cell_type": "code",
   "execution_count": 21,
   "metadata": {},
   "outputs": [
    {
     "data": {
      "text/plain": [
       "0.016430467489376977"
      ]
     },
     "execution_count": 21,
     "metadata": {},
     "output_type": "execute_result"
    }
   ],
   "source": [
    "np.array(sigma_list).std()"
   ]
  }
 ],
 "metadata": {
  "kernelspec": {
   "display_name": "empiricalio",
   "language": "python",
   "name": "python3"
  },
  "language_info": {
   "codemirror_mode": {
    "name": "ipython",
    "version": 3
   },
   "file_extension": ".py",
   "mimetype": "text/x-python",
   "name": "python",
   "nbconvert_exporter": "python",
   "pygments_lexer": "ipython3",
   "version": "3.11.4"
  },
  "orig_nbformat": 4
 },
 "nbformat": 4,
 "nbformat_minor": 2
}
